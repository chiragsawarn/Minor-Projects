{
 "cells": [
  {
   "cell_type": "markdown",
   "metadata": {},
   "source": [
    "# Multiply Two Matrices using Numpy Library and Compare Results"
   ]
  },
  {
   "cell_type": "code",
   "execution_count": 1,
   "metadata": {},
   "outputs": [],
   "source": [
    "import numpy as np\n",
    "import time\n",
    "from matplotlib import pyplot as plt\n",
    "scalar_data = {}\n",
    "cross_data = {}\n"
   ]
  },
  {
   "cell_type": "markdown",
   "metadata": {},
   "source": [
    "### Generate Random Matrices of 1000x1000, 2000x2000,.. and Multiply them "
   ]
  },
  {
   "cell_type": "code",
   "execution_count": 2,
   "metadata": {},
   "outputs": [],
   "source": [
    "for i in range(1,6):\n",
    "    a = np.random.randint(1,100,(i*100,i*100))\n",
    "    b = np.random.randint(1,100,(i*100,i*100))\n",
    "    start = time.time()\n",
    "    np.matmul(a,b)\n",
    "    end = time.time()\n",
    "    cross_data[i*100] = end - start\n",
    "    start = time.time()\n",
    "    c = a*b\n",
    "    end = time.time()\n",
    "    scalar_data[i*100] = end - start"
   ]
  },
  {
   "cell_type": "markdown",
   "metadata": {},
   "source": [
    "### Print Resultant Data"
   ]
  },
  {
   "cell_type": "code",
   "execution_count": 4,
   "metadata": {},
   "outputs": [
    {
     "name": "stdout",
     "output_type": "stream",
     "text": [
      "---> For Scalar Product <-----\n",
      "Time taken to Multiply two 100*100 Scalar Matrix 0.0s\n",
      "Time taken to Multiply two 200*200 Scalar Matrix 0.0s\n",
      "Time taken to Multiply two 300*300 Scalar Matrix 0.0s\n",
      "Time taken to Multiply two 400*400 Scalar Matrix 0.0s\n",
      "Time taken to Multiply two 500*500 Scalar Matrix 0.0s\n",
      "----> For Matrix Product <-----\n",
      "Time taken to Multiply two100*100 Cross Matrix 0.0009708404541015625s\n",
      "Time taken to Multiply two200*200 Cross Matrix 0.010998964309692383s\n",
      "Time taken to Multiply two300*300 Cross Matrix 0.039054155349731445s\n",
      "Time taken to Multiply two400*400 Cross Matrix 0.07751679420471191s\n",
      "Time taken to Multiply two500*500 Cross Matrix 0.16843652725219727s\n"
     ]
    }
   ],
   "source": [
    "print(\"---> For Scalar Product <-----\")\n",
    "for elem in list(scalar_data.keys()):\n",
    "    print(\"Time taken to Multiply two \"  + f\"{elem}*{elem} Scalar Matrix \"+str(scalar_data[elem]) +\"s\")\n",
    "print(\"----> For Matrix Product <-----\")\n",
    "for elem in list(cross_data.keys()):\n",
    "    print(\"Time taken to Multiply two\" + f\"{elem}*{elem} Cross Matrix \" + str(cross_data[elem]) + \"s\")"
   ]
  },
  {
   "cell_type": "markdown",
   "metadata": {},
   "source": [
    "### Plot Required Data"
   ]
  },
  {
   "cell_type": "code",
   "execution_count": 5,
   "metadata": {},
   "outputs": [
    {
     "data": {
      "image/png": "[encoded data removed]",
      "text/plain": [
       "<Figure size 432x288 with 1 Axes>"
      ]
     },
     "metadata": {
      "needs_background": "light"
     },
     "output_type": "display_data"
    }
   ],
   "source": [
    "plt.plot(list(scalar_data.keys()),list(scalar_data.values()),label=\"Scalar Product\")\n",
    "plt.plot(list(cross_data.keys()),list(cross_data.values()),label=\"Matrix Product\")\n",
    "plt.legend()\n",
    "plt.xlabel(\"Matrix Dimensions (a*a)\")\n",
    "plt.ylabel(\"Time Taken to Multiply\")\n",
    "plt.show()"
   ]
  },
  {
   "cell_type": "code",
   "execution_count": null,
   "metadata": {},
   "outputs": [],
   "source": []
  }
 ],
 "metadata": {
  "kernelspec": {
   "display_name": "Python 3",
   "language": "python",
   "name": "python3"
  },
  "language_info": {
   "codemirror_mode": {
    "name": "ipython",
    "version": 3
   },
   "file_extension": ".py",
   "mimetype": "text/x-python",
   "name": "python",
   "nbconvert_exporter": "python",
   "pygments_lexer": "ipython3",
   "version": "3.8.3"
  }
 },
 "nbformat": 4,
 "nbformat_minor": 4
}
