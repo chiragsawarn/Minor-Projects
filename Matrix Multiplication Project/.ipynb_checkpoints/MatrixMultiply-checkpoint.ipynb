{
 "cells": [
  {
   "cell_type": "markdown",
   "metadata": {},
   "source": [
    "# Matrix Multiplication without Numpy Library"
   ]
  },
  {
   "cell_type": "code",
   "execution_count": 2,
   "metadata": {},
   "outputs": [],
   "source": [
    "import random \n",
    "import time\n",
    "from matplotlib import pyplot as plt"
   ]
  },
  {
   "cell_type": "markdown",
   "metadata": {},
   "source": [
    "### Function to Multiply Two Matrices (Scalar)\n"
   ]
  },
  {
   "cell_type": "code",
   "execution_count": 3,
   "metadata": {},
   "outputs": [],
   "source": [
    "def scalar(a,b):\n",
    "    n = len(a)\n",
    "    c = [[0 for _ in range(n)] for _ in range(n)]\n",
    "    for i in range(n):\n",
    "        for j in range(n):\n",
    "            c[i][j] = a[i][j]*b[i][j]\n",
    "    return c"
   ]
  },
  {
   "cell_type": "markdown",
   "metadata": {},
   "source": [
    "### Function to Multiply Two Matrices (Cross)"
   ]
  },
  {
   "cell_type": "code",
   "execution_count": 4,
   "metadata": {},
   "outputs": [],
   "source": [
    "def matrixmultiplication(a,b):\n",
    "    n = len(a)\n",
    "    c = [[0 for _ in range(n)] for _ in range(n)]\n",
    "    for i in range(n):\n",
    "        for j in range(n):\n",
    "            for k in range(n):\n",
    "                c[i][j] += a[i][k]*b[k][j]\n",
    "    return c"
   ]
  },
  {
   "cell_type": "markdown",
   "metadata": {},
   "source": [
    "### Function to Generate Random Matrix\n"
   ]
  },
  {
   "cell_type": "code",
   "execution_count": 5,
   "metadata": {},
   "outputs": [],
   "source": [
    "def genrandommatrix(n):\n",
    "    c = [[0 for _ in range(n)] for _ in range(n)]\n",
    "    for i in range(n):\n",
    "        for j in range(n):\n",
    "            c[i][j] = random.randint(1,100)\n",
    "    return c \n"
   ]
  },
  {
   "cell_type": "markdown",
   "metadata": {},
   "source": [
    "### Generate Random Matrices of 100x100,200x200 and Mutiply them ,note the time taken"
   ]
  },
  {
   "cell_type": "code",
   "execution_count": 7,
   "metadata": {},
   "outputs": [],
   "source": [
    "scalar_data = {}\n",
    "cross_data = {}\n",
    "\n",
    "\n",
    "for i in range(1,6):\n",
    "    a = genrandommatrix(i*100)\n",
    "    b = genrandommatrix(i*100)\n",
    "    start = time.time()\n",
    "    scalar(a,b)\n",
    "    end = time.time()\n",
    "    scalar_data[i*100] = end - start\n",
    "    start = time.time()\n",
    "    matrixmultiplication(a,b)\n",
    "    end = time.time()\n",
    "    cross_data[i*100] = end - start\n"
   ]
  },
  {
   "cell_type": "markdown",
   "metadata": {},
   "source": [
    "### Print Resultant Data"
   ]
  },
  {
   "cell_type": "code",
   "execution_count": 8,
   "metadata": {},
   "outputs": [
    {
     "name": "stdout",
     "output_type": "stream",
     "text": [
      "---> For Scalar Product <-----\n",
      "Time taken to Multiply two 100*100 Scalar Matrix 0.0020017623901367188s\n",
      "Time taken to Multiply two 200*200 Scalar Matrix 0.0s\n",
      "Time taken to Multiply two 300*300 Scalar Matrix 0.012970209121704102s\n",
      "Time taken to Multiply two 400*400 Scalar Matrix 0.029423952102661133s\n",
      "Time taken to Multiply two 500*500 Scalar Matrix 0.031249046325683594s\n",
      "----> For Matrix Product <-----\n",
      "Time taken to Multiply two100*100 Cross Matrix 0.21523165702819824s\n",
      "Time taken to Multiply two200*200 Cross Matrix 1.233914852142334s\n",
      "Time taken to Multiply two300*300 Cross Matrix 5.258261680603027s\n",
      "Time taken to Multiply two400*400 Cross Matrix 13.14871335029602s\n",
      "Time taken to Multiply two500*500 Cross Matrix 26.77227234840393s\n"
     ]
    }
   ],
   "source": [
    "print(\"---> For Scalar Product <-----\")\n",
    "for elem in list(scalar_data.keys()):\n",
    "    print(\"Time taken to Multiply two \"  + f\"{elem}*{elem} Scalar Matrix \"+str(scalar_data[elem]) +\"s\")\n",
    "print(\"----> For Matrix Product <-----\")\n",
    "for elem in list(cross_data.keys()):\n",
    "    print(\"Time taken to Multiply two\" + f\"{elem}*{elem} Cross Matrix \" + str(cross_data[elem]) + \"s\")\n"
   ]
  },
  {
   "cell_type": "markdown",
   "metadata": {},
   "source": [
    "### Plot Required Data"
   ]
  },
  {
   "cell_type": "code",
   "execution_count": 9,
   "metadata": {},
   "outputs": [
    {
     "data": {
      "image/png": "[encoded data removed]",
      "text/plain": [
       "<Figure size 432x288 with 1 Axes>"
      ]
     },
     "metadata": {
      "needs_background": "light"
     },
     "output_type": "display_data"
    }
   ],
   "source": [
    "plt.plot(list(scalar_data.keys()),list(scalar_data.values()),label=\"Scalar Product\")\n",
    "plt.plot(list(cross_data.keys()),list(cross_data.values()),label=\"Matrix Product\")\n",
    "plt.legend()\n",
    "plt.xlabel(\"Matrix Dimensions (a*a)\")\n",
    "plt.ylabel(\"Time Taken to Multiply\")\n",
    "plt.title(\"Matrix Multiplication without Numpy Library\")\n",
    "plt.show()"
   ]
  },
  {
   "cell_type": "code",
   "execution_count": null,
   "metadata": {},
   "outputs": [],
   "source": []
  }
 ],
 "metadata": {
  "kernelspec": {
   "display_name": "Python 3",
   "language": "python",
   "name": "python3"
  },
  "language_info": {
   "codemirror_mode": {
    "name": "ipython",
    "version": 3
   },
   "file_extension": ".py",
   "mimetype": "text/x-python",
   "name": "python",
   "nbconvert_exporter": "python",
   "pygments_lexer": "ipython3",
   "version": "3.8.3"
  }
 },
 "nbformat": 4,
 "nbformat_minor": 4
}
